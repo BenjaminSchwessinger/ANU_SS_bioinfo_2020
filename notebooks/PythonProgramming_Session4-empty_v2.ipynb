{
 "cells": [
  {
   "cell_type": "markdown",
   "metadata": {},
   "source": [
    "# Python introduction - session 4 \n",
    "## Learning about the real power of python with modules\n",
    "## Biopython, pandas, matplotlib and bedtools wrapped into the jupyter\n",
    "\n",
    "If you get stuck in an endless loop hit the **\"STOP\" button (black square)** above or our good friend from bash, **ctrl+c**  \n",
    "You know you are stuck in a loop if you see **In \\[\\*\\]:** forever"
   ]
  },
  {
   "cell_type": "markdown",
   "metadata": {},
   "source": [
    "### Installation reminder\n",
    "\n",
    "If you want to install this whole tool stack on your own machine we recommend the following.\n",
    "\n",
    "#### Windows\n",
    "\n",
    "* Install the [Ubuntu subsystem](https://docs.microsoft.com/en-us/windows/wsl/install-win10)\n",
    "* Install the Linux version of [Anaconda](https://www.anaconda.com/products/individual) into your subsystem.\n",
    "* Setup [Bioconda](https://bioconda.github.io/) in your subsystem\n",
    "* Install programs and modules like...\n",
    "\n",
    "``conda install biopython``\n",
    "\n",
    "#### Mac\n",
    "\n",
    "* Install the Mac version of [Anaconda](https://www.anaconda.com/products/individual) on your command line/terminal.\n",
    "* Setup [Bioconda](https://bioconda.github.io/) on your command line/terminal.\n",
    "* Install programs and modules like...\n",
    "\n",
    "``conda install biopython``"
   ]
  },
  {
   "cell_type": "markdown",
   "metadata": {},
   "source": [
    "### Objectives\n",
    "\n",
    "* Interogate larger dataset using biopython and pandas.\n",
    "* Use pandas to combine larger datasets.\n",
    "* Plot expression profiles across multiple condiditions in Arabidopsis.\n",
    "* Extract promoter sequences of highly expressed genes.\n",
    "* Analyze the composition of promoter sequences to identify motifs."
   ]
  },
  {
   "cell_type": "markdown",
   "metadata": {},
   "source": [
    "## Reminder: Python objects are like cats and dogs"
   ]
  },
  {
   "cell_type": "code",
   "execution_count": null,
   "metadata": {},
   "outputs": [],
   "source": [
    "%matplotlib inline\n",
    "from IPython.display import Image\n",
    "import warnings\n",
    "warnings.filterwarnings('ignore')"
   ]
  },
  {
   "cell_type": "code",
   "execution_count": null,
   "metadata": {},
   "outputs": [],
   "source": [
    "Image(filename='./figures/dogs_as_objects.jpg')"
   ]
  },
  {
   "cell_type": "markdown",
   "metadata": {},
   "source": [
    "### Intro to [Biopython](https://biopython.org/wiki/Documentation)\n",
    "\n",
    "* We will download the complete [Arabidopsis](https://www.arabidopsis.org/index.jsp) coding sequences.\n",
    "* We will read them all in at once.\n",
    "* We will translate them all into protein sequences.\n",
    "* We will calcualte their pi values.\n",
    "* We will do some basic plotting."
   ]
  },
  {
   "cell_type": "code",
   "execution_count": null,
   "metadata": {},
   "outputs": [],
   "source": [
    "!gunzip datasets/TAIR10_chr_all.fa.gz"
   ]
  },
  {
   "cell_type": "markdown",
   "metadata": {},
   "source": [
    "#### Let's download sequences from [here](https://www.arabidopsis.org/download/index-auto.jsp?dir=%2Fdownload_files%2FGenes%2FAraport11_genome_release%2FAraport11_blastsets)"
   ]
  },
  {
   "cell_type": "code",
   "execution_count": null,
   "metadata": {},
   "outputs": [],
   "source": [
    "!wget https://www.arabidopsis.org/download_files/Genes/Araport11_genome_release/Araport11_blastsets/Araport11_genes.201606.cds.fasta.gz"
   ]
  },
  {
   "cell_type": "code",
   "execution_count": null,
   "metadata": {},
   "outputs": [],
   "source": [
    "!gunzip Araport11_genes.201606.cds.fasta.gz"
   ]
  },
  {
   "cell_type": "code",
   "execution_count": null,
   "metadata": {},
   "outputs": [],
   "source": [
    "!head Araport11_genes.201606.cds.fasta"
   ]
  },
  {
   "cell_type": "markdown",
   "metadata": {},
   "source": [
    "## Let's reconstruct out lists from last time for all CDS in Arabidopsis"
   ]
  },
  {
   "cell_type": "code",
   "execution_count": null,
   "metadata": {},
   "outputs": [],
   "source": [
    "from Bio import SeqIO\n",
    "from Bio.SeqUtils import IsoelectricPoint as IP\n",
    "import pandas as pd\n",
    "import matplotlib.pyplot as plt"
   ]
  },
  {
   "cell_type": "code",
   "execution_count": null,
   "metadata": {},
   "outputs": [],
   "source": [
    "filename = 'Araport11_genes.201606.cds.fasta'"
   ]
  },
  {
   "cell_type": "code",
   "execution_count": null,
   "metadata": {},
   "outputs": [],
   "source": [
    "## Read in all CDS as list (ordered!)\n",
    "arabidopsis_cds = []\n",
    "for seq in SeqIO.parse(filename, 'fasta'):\n",
    "    arabidopsis_cds.append(seq)    "
   ]
  },
  {
   "cell_type": "code",
   "execution_count": null,
   "metadata": {},
   "outputs": [],
   "source": [
    "###Let's make a cds length list and an ID list\n",
    "cds_length = []\n",
    "ID_list = []\n",
    "for cds in arabidopsis_cds:\n",
    "    cds_length.append(len(cds.seq))\n",
    "    ID_list.append(cds.id)"
   ]
  },
  {
   "cell_type": "code",
   "execution_count": null,
   "metadata": {},
   "outputs": [],
   "source": [
    "###Let's make a protein list and a protein length list\n",
    "arabidopsis_proteins = []\n",
    "protein_length = []\n",
    "for cds in arabidopsis_cds:\n",
    "    tmp_protein = cds.translate() #translate sequence\n",
    "    tmp_protein.id = cds.id #add id to tmp_protein object\n",
    "    tmp_protein.name = cds.name #add name to tmp_protein object \n",
    "    tmp_protein.description = cds.description #add description to tmp_protein object\n",
    "    arabidopsis_proteins.append(tmp_protein) #store it\n",
    "    protein_length.append(len(tmp_protein)) #store length"
   ]
  },
  {
   "cell_type": "code",
   "execution_count": null,
   "metadata": {},
   "outputs": [],
   "source": [
    "protein_pi_values = []\n",
    "for protein in arabidopsis_proteins:\n",
    "    tmp_protein = IP.IsoelectricPoint(protein.seq) #generate a Isoelectric point object to be able to calcuate pi values\n",
    "    tmp_protein_pi = tmp_protein.pi() #calculate pi value\n",
    "    protein_pi_values.append(tmp_protein_pi)"
   ]
  },
  {
   "cell_type": "markdown",
   "metadata": {},
   "source": [
    "## Exercise I\n",
    "\n",
    "* Make a dictionary called ara_dict\n",
    "* the keys 'CDS_ID', 'CDS_length', 'protein_length', 'protein_pi_value'\n",
    "* the values are the corresponding lists we generated above"
   ]
  },
  {
   "cell_type": "code",
   "execution_count": null,
   "metadata": {},
   "outputs": [],
   "source": [
    "ara_dict = {}\n",
    "ara_dict['CDS_ID'] = ID_list\n",
    "ara_dict['CDS_length'] = cds_length\n",
    "ara_dict['protein_length'] = protein_length\n",
    "ara_dict['protein_pi_value'] = protein_pi_values"
   ]
  },
  {
   "cell_type": "markdown",
   "metadata": {},
   "source": [
    "### Intro to [pandas](https://pandas.pydata.org/)\n",
    "\n",
    "pandas is a fast, powerful, flexible and easy to use open source data analysis and manipulation tool,\n",
    "built on top of the Python programming language. \n",
    "\n",
    "* We will generate a dataframe (Table) from our own input data\n",
    "* We will subset the dataframe to find the longest and shortes CDS in Arabidopsis\n",
    "* We will caclulate the mean, median, and standard deviation for our dataset\n",
    "* We will do some basic plotting.\n",
    "* We will load some public expression datasets.\n",
    "* We will interogate this dataset.\n",
    "* We will pull out the promoters of the most highly expressed genes and look for a specific hormone response elements."
   ]
  },
  {
   "cell_type": "markdown",
   "metadata": {},
   "source": [
    "#### The two main objects in pandas \n",
    "\n",
    "* Series to store one dimensional data\n",
    "* Dataframe to store two dimnesional data\n",
    "\n",
    "See for a quick intro [here](https://pandas.pydata.org/pandas-docs/stable/getting_started/10min.html)"
   ]
  },
  {
   "cell_type": "code",
   "execution_count": null,
   "metadata": {},
   "outputs": [],
   "source": [
    "ara_df = pd.DataFrame.from_dict(ara_dict)"
   ]
  },
  {
   "cell_type": "code",
   "execution_count": null,
   "metadata": {},
   "outputs": [],
   "source": [
    "ara_df"
   ]
  },
  {
   "cell_type": "code",
   "execution_count": null,
   "metadata": {},
   "outputs": [],
   "source": [
    "## look at the top\n",
    "ara_df.head()"
   ]
  },
  {
   "cell_type": "code",
   "execution_count": null,
   "metadata": {},
   "outputs": [],
   "source": [
    "## look at the bottom\n",
    "ara_df.tail()"
   ]
  },
  {
   "cell_type": "code",
   "execution_count": null,
   "metadata": {},
   "outputs": [],
   "source": [
    "## Get the column index\n",
    "ara_df.columns"
   ]
  },
  {
   "cell_type": "code",
   "execution_count": null,
   "metadata": {},
   "outputs": [],
   "source": [
    "## Get row index\n",
    "ara_df.index"
   ]
  },
  {
   "cell_type": "code",
   "execution_count": null,
   "metadata": {},
   "outputs": [],
   "source": [
    "## Get specific columns\n",
    "ara_df['CDS_ID']"
   ]
  },
  {
   "cell_type": "code",
   "execution_count": null,
   "metadata": {},
   "outputs": [],
   "source": [
    "## Get a gene id column for later use\n",
    "ara_df['Gene_ID'] = ara_df['CDS_ID'].apply(lambda x: x.split('.')[0])"
   ]
  },
  {
   "cell_type": "code",
   "execution_count": null,
   "metadata": {},
   "outputs": [],
   "source": [
    "ara_df['Gene_ID']"
   ]
  },
  {
   "cell_type": "code",
   "execution_count": null,
   "metadata": {},
   "outputs": [],
   "source": [
    "## Reset the index\n",
    "ara_df.index = ara_df['Gene_ID']"
   ]
  },
  {
   "cell_type": "code",
   "execution_count": null,
   "metadata": {},
   "outputs": [],
   "source": [
    "## Drop a column\n",
    "ara_df.drop('Gene_ID', axis=1)"
   ]
  },
  {
   "cell_type": "code",
   "execution_count": null,
   "metadata": {},
   "outputs": [],
   "source": [
    "## Drop a column inplace\n",
    "ara_df.drop('Gene_ID', axis=1, inplace = True)"
   ]
  },
  {
   "cell_type": "markdown",
   "metadata": {},
   "source": [
    "### A word about pandas axis"
   ]
  },
  {
   "cell_type": "code",
   "execution_count": null,
   "metadata": {},
   "outputs": [],
   "source": [
    "Image(filename='./figures/axis_pandas.jpg')"
   ]
  },
  {
   "cell_type": "markdown",
   "metadata": {},
   "source": [
    "### Getting the mean, max, min, and such from a dataset"
   ]
  },
  {
   "cell_type": "code",
   "execution_count": null,
   "metadata": {},
   "outputs": [],
   "source": [
    "## maximum\n",
    "ara_df['CDS_length'].max()"
   ]
  },
  {
   "cell_type": "code",
   "execution_count": null,
   "metadata": {},
   "outputs": [],
   "source": [
    "## mean\n",
    "ara_df['CDS_length'].mean()"
   ]
  },
  {
   "cell_type": "markdown",
   "metadata": {},
   "source": [
    "### Exercise II\n",
    "\n",
    "* Get the mean value of protein_length column\n",
    "* Get the max value of the protein_length column\n",
    "* Get the standard deviation of the protein lenght column\n",
    "* Get the mean value of the protein_pi_value column"
   ]
  },
  {
   "cell_type": "code",
   "execution_count": null,
   "metadata": {},
   "outputs": [],
   "source": []
  },
  {
   "cell_type": "markdown",
   "metadata": {},
   "source": [
    "### Plotting is your friend and build into pandas"
   ]
  },
  {
   "cell_type": "code",
   "execution_count": null,
   "metadata": {},
   "outputs": [],
   "source": [
    "##histogram plot of protein_pi_value\n",
    "ara_df['protein_pi_value'].plot.hist(bins=500)"
   ]
  },
  {
   "cell_type": "code",
   "execution_count": null,
   "metadata": {},
   "outputs": [],
   "source": [
    "##histogram plot with horizontal line of the \n",
    "ara_df['protein_pi_value'].plot.hist(bins=500)\n",
    "plt.axvline(ara_df['protein_pi_value'].mean(), c='r')\n",
    "plt.xlabel('PI value [pH]')"
   ]
  },
  {
   "cell_type": "markdown",
   "metadata": {},
   "source": [
    "## Always look at your distributions genome data is never?! normally distributed"
   ]
  },
  {
   "cell_type": "markdown",
   "metadata": {},
   "source": [
    "### Subsetting your data"
   ]
  },
  {
   "cell_type": "code",
   "execution_count": null,
   "metadata": {},
   "outputs": [],
   "source": [
    "## CDS that are longer than the mean\n",
    "ara_df['CDS_length'] > ara_df['CDS_length'].mean() "
   ]
  },
  {
   "cell_type": "code",
   "execution_count": null,
   "metadata": {},
   "outputs": [],
   "source": [
    "## Dataframe and Series have shapes\n",
    "ara_df['CDS_length'].shape"
   ]
  },
  {
   "cell_type": "code",
   "execution_count": null,
   "metadata": {},
   "outputs": [],
   "source": [
    "## Dataframe and Series have shapes\n",
    "ara_df.shape"
   ]
  },
  {
   "cell_type": "code",
   "execution_count": null,
   "metadata": {},
   "outputs": [],
   "source": [
    "(ara_df['CDS_length'] > ara_df['CDS_length'].mean()).shape"
   ]
  },
  {
   "cell_type": "code",
   "execution_count": null,
   "metadata": {},
   "outputs": [],
   "source": [
    "## Because comparisons return the same shaped boolean series we can use them to subset dataframes\n",
    "ara_df[ara_df['CDS_length'] > ara_df['CDS_length'].mean()]"
   ]
  },
  {
   "cell_type": "code",
   "execution_count": null,
   "metadata": {},
   "outputs": [],
   "source": [
    "### We can also use boolean series to count\n",
    "(ara_df['CDS_length'] > ara_df['CDS_length'].mean()).sum()"
   ]
  },
  {
   "cell_type": "markdown",
   "metadata": {},
   "source": [
    "### Exercise III\n",
    "\n",
    "* How many proteins are longer than 1000 aa.\n",
    "* How many CDS are longer than the mean plus two standard deviations.\n",
    "* What is the mean length of proteins longer than 2000 aa."
   ]
  },
  {
   "cell_type": "code",
   "execution_count": null,
   "metadata": {},
   "outputs": [],
   "source": []
  },
  {
   "cell_type": "markdown",
   "metadata": {},
   "source": [
    "### Let's look at some public Arabidopsis gene expression data after Auxin (a hormone) treatment\n",
    "\n",
    "The paper is about gene expression after two different hormone treatments in Arabidopsis. We will use this to learn more about pandas and to extract promoters in the next session.\n",
    "\n",
    "[Spatiotemporal Brassinosteroid Signaling and Antagonism with Auxin Pattern Stem Cell Dynamics in Arabidopsis Roots](https://www.sciencedirect.com/science/article/pii/S0960982215002158#mmc2) \n",
    "\n",
    "The basic treatments we are interested in are in the Columbia (WT) background:\n",
    "\n",
    "* Auxin alone.\n",
    "* Brassinosteroid alone.\n",
    "* Auxin and Brassinosteroid (but this wasn't really in the supplement).\n"
   ]
  },
  {
   "cell_type": "code",
   "execution_count": null,
   "metadata": {},
   "outputs": [],
   "source": [
    "Image('./figures/Expression_analysis.png')"
   ]
  },
  {
   "cell_type": "markdown",
   "metadata": {},
   "source": [
    "### This is how the data actually looks like"
   ]
  },
  {
   "cell_type": "code",
   "execution_count": null,
   "metadata": {},
   "outputs": [],
   "source": [
    "Image('figures/Excel_screenshot.png')"
   ]
  },
  {
   "cell_type": "markdown",
   "metadata": {},
   "source": [
    "### Let's read in this excel table into pandas"
   ]
  },
  {
   "cell_type": "code",
   "execution_count": null,
   "metadata": {},
   "outputs": [],
   "source": [
    "?pd.read_excel"
   ]
  },
  {
   "cell_type": "code",
   "execution_count": null,
   "metadata": {},
   "outputs": [],
   "source": [
    "## Excel file name\n",
    "excel_fn = 'datasets/1-s2.0-S0960982215002158-mmc2.xlsx'"
   ]
  },
  {
   "cell_type": "code",
   "execution_count": null,
   "metadata": {},
   "outputs": [],
   "source": [
    "### Read in excel file with specific spreadsheet and take care of excess row and index column\n",
    "excel_df = pd.read_excel(excel_fn, sheet_name='S1', skiprows=1, index_col=0)"
   ]
  },
  {
   "cell_type": "code",
   "execution_count": null,
   "metadata": {},
   "outputs": [],
   "source": [
    "###Let's look at it\n",
    "excel_df.head()"
   ]
  },
  {
   "cell_type": "markdown",
   "metadata": {},
   "source": [
    "### Let's look into indexing of rows and columns"
   ]
  },
  {
   "cell_type": "code",
   "execution_count": null,
   "metadata": {},
   "outputs": [],
   "source": [
    "Image(filename='./figures/axis_pandas.jpg')"
   ]
  },
  {
   "cell_type": "code",
   "execution_count": null,
   "metadata": {},
   "outputs": [],
   "source": [
    "## Numerical indexing (exclusive [,)])\n",
    "excel_df.iloc[1,1]"
   ]
  },
  {
   "cell_type": "code",
   "execution_count": null,
   "metadata": {},
   "outputs": [],
   "source": [
    "## Name indexing (inclusive [,])\n",
    "excel_df.loc['AT3G54530', 'dwf4 +BL vs. dwf4']"
   ]
  },
  {
   "cell_type": "code",
   "execution_count": null,
   "metadata": {},
   "outputs": [],
   "source": [
    "## Name indexing (inclusive [,])\n",
    "excel_df.loc['AT3G54530':'AT5G20470', 'dwf4 +BL vs. dwf4']"
   ]
  },
  {
   "cell_type": "code",
   "execution_count": null,
   "metadata": {},
   "outputs": [],
   "source": [
    "## Numerical indexing (exclusive [,)])\n",
    "excel_df.iloc[1:2,1]"
   ]
  },
  {
   "cell_type": "code",
   "execution_count": null,
   "metadata": {},
   "outputs": [],
   "source": [
    "### Let's subset the dataframe to only contain the columns\n",
    "### 'Col+BL vs. Col', 'Col+IAA vs. Col', 'Computational_description'\n",
    "\n",
    "excel_df = excel_df.loc[:, ['Col+BL vs. Col', 'Col+IAA vs. Col', 'Computational_description']]"
   ]
  },
  {
   "cell_type": "code",
   "execution_count": null,
   "metadata": {},
   "outputs": [],
   "source": [
    "excel_df.head()"
   ]
  },
  {
   "cell_type": "markdown",
   "metadata": {},
   "source": [
    "### Exercise V\n",
    "\n",
    "* What is the differential expression after IAA treatment of gene 'AT3G46810'\n",
    "* What is the maximal differential expression of BL treatment.\n",
    "* What is the BL expression of the 1493 gene."
   ]
  },
  {
   "cell_type": "code",
   "execution_count": null,
   "metadata": {},
   "outputs": [],
   "source": []
  },
  {
   "cell_type": "code",
   "execution_count": null,
   "metadata": {},
   "outputs": [],
   "source": [
    "###Double indexing \"and\"\n",
    "excel_df[(excel_df['Col+BL vs. Col'] > 5) & (excel_df['Col+IAA vs. Col'] > 5)]"
   ]
  },
  {
   "cell_type": "code",
   "execution_count": null,
   "metadata": {},
   "outputs": [],
   "source": [
    "###Double indexing \"or\"\n",
    "excel_df[(excel_df['Col+BL vs. Col'] > 5) | (excel_df['Col+IAA vs. Col'] > 5)]"
   ]
  },
  {
   "cell_type": "markdown",
   "metadata": {},
   "source": [
    "### Exercise VI\n",
    "\n",
    "* How many genes are upregulated at both conditions.\n",
    "* How many genes are upgregulated in one condition only.\n",
    "* Do you think the overlap or exclusion is significant and what test could you use to test for this.\n"
   ]
  },
  {
   "cell_type": "code",
   "execution_count": null,
   "metadata": {},
   "outputs": [],
   "source": []
  },
  {
   "cell_type": "code",
   "execution_count": null,
   "metadata": {},
   "outputs": [],
   "source": [
    "###Sort values\n",
    "excel_df.sort_values('Col+IAA vs. Col')"
   ]
  },
  {
   "cell_type": "code",
   "execution_count": null,
   "metadata": {},
   "outputs": [],
   "source": [
    "###Sort values\n",
    "excel_df.sort_values('Col+IAA vs. Col', ascending=False, inplace=True)"
   ]
  },
  {
   "cell_type": "code",
   "execution_count": null,
   "metadata": {},
   "outputs": [],
   "source": [
    "###let's look at the top 100 differentially expressed (>5) expressed genes after IAA treatment\n",
    "###that are also differentially expressed in BL conditions.\n",
    "sub_excel_df = excel_df[(excel_df['Col+BL vs. Col'] > 5) | (excel_df['Col+IAA vs. Col'] > 5)].iloc[:100,:]"
   ]
  },
  {
   "cell_type": "code",
   "execution_count": null,
   "metadata": {},
   "outputs": [],
   "source": [
    "sub_excel_df.head()"
   ]
  },
  {
   "cell_type": "code",
   "execution_count": null,
   "metadata": {},
   "outputs": [],
   "source": [
    "###Sort values\n",
    "sub_excel_df.plot.bar()"
   ]
  },
  {
   "cell_type": "markdown",
   "metadata": {},
   "source": [
    "### Let's explore the data a bit more and ask the questions like\n",
    "\n",
    "* What is the pi value distirubtion of BL upregulated genes.\n",
    "* What is the length distribution of IAA upregulated genes.\n",
    "* ....\n",
    "\n",
    "Remember both the ara_df and excel_df have the gene names as index"
   ]
  },
  {
   "cell_type": "code",
   "execution_count": null,
   "metadata": {},
   "outputs": [],
   "source": [
    "IAA_induced_index = excel_df[excel_df['Col+IAA vs. Col'] > 5].index"
   ]
  },
  {
   "cell_type": "code",
   "execution_count": null,
   "metadata": {},
   "outputs": [],
   "source": [
    "ara_df.loc[ara_df.index.isin(IAA_induced_index),'protein_pi_value'].plot.kde(color='g', alpha=0.5)\n",
    "ara_df['protein_pi_value'].plot.kde(color='b', alpha=0.5)"
   ]
  },
  {
   "cell_type": "code",
   "execution_count": null,
   "metadata": {},
   "outputs": [],
   "source": [
    "ara_df.loc[ara_df.index.isin(IAA_induced_index),'protein_length'].plot.kde(color='g', alpha=0.5)\n",
    "ara_df['protein_length'].plot.kde(color='b', alpha=0.5)"
   ]
  },
  {
   "cell_type": "markdown",
   "metadata": {},
   "source": [
    "## Let's talk about genome annotations and coordinate files"
   ]
  },
  {
   "cell_type": "markdown",
   "metadata": {},
   "source": [
    "### DNA sequences are 1 dimensional strings how to express what is encoded in a DNA sequence?\n",
    "\n",
    "### [BED formats](https://m.ensembl.org/info/website/upload/bed.html)\n",
    "\n",
    "* It's like a string that gets indexed in python starting with 0 and being exclusive **[,)**  \n",
    "* Minimum we need is the sequence identifier, start, end -> **BED3**\n",
    "\n",
    "```ctg123   1299    9000```\n",
    "\n",
    "* Next up is we might want to encode the name, score, and strand -> **BED6**\n",
    "\n",
    "```ctg123   1299    9000    mRNA    .    +```"
   ]
  },
  {
   "cell_type": "markdown",
   "metadata": {},
   "source": [
    "### What about if we can to link different entries with each other e.g. genes -> mRNA -> UTRs/CDS -> exons?\n",
    "\n",
    "### [GFF3 format](https://m.ensembl.org/info/website/upload/gff3.html)\n",
    "\n",
    "* It's a coordinate system like BED but in a different order with more columns and 1 based being inclusive **[,]**\n",
    "\n",
    "* SeqID, source, type, start, end, score, strand, phase, attributes\n",
    "\n",
    "``` ##gff-version 3\n",
    "ctg123 . mRNA            1300  9000  .  +  .  ID=mrna0001;Name=sonichedgehog\n",
    "ctg123 . exon            1300  1500  .  +  .  ID=exon00001;Parent=mrna0001\n",
    "ctg123 . exon            1050  1500  .  +  .  ID=exon00002;Parent=mrna0001\n",
    "ctg123 . exon            3000  3902  .  +  .  ID=exon00003;Parent=mrna0001\n",
    "ctg123 . exon            5000  5500  .  +  .  ID=exon00004;Parent=mrna0001\n",
    "ctg123 . exon            7000  9000  .  +  .  ID=exon00005;Parent=mrna0001 ```"
   ]
  },
  {
   "cell_type": "markdown",
   "metadata": {},
   "source": [
    "### Let's download the Arabidopsis gff3 file from [here](https://www.arabidopsis.org/download/index-auto.jsp?dir=%2Fdownload_files%2FGenes%2FTAIR10_genome_release%2FTAIR10_gff3)\n",
    "\n",
    "The aim is to get all the rows that describe genes and that are part of our upregulated list."
   ]
  },
  {
   "cell_type": "code",
   "execution_count": null,
   "metadata": {},
   "outputs": [],
   "source": [
    "gff_header = ['SeqID', 'source', 'type', 'start', 'end', 'score', 'strand', 'phase', 'attributes']"
   ]
  },
  {
   "cell_type": "code",
   "execution_count": null,
   "metadata": {},
   "outputs": [],
   "source": [
    "###read in csv\n",
    "ara_gff3 = pd.read_csv"
   ]
  },
  {
   "cell_type": "code",
   "execution_count": null,
   "metadata": {},
   "outputs": [],
   "source": [
    "###let's have a look\n"
   ]
  },
  {
   "cell_type": "code",
   "execution_count": null,
   "metadata": {},
   "outputs": [],
   "source": [
    "###let's get the subset for 'AT1G01010' and 'type' being 'gene'\n",
    "ara_gff3[(ara_gff3) & (ara_gff3)]"
   ]
  },
  {
   "cell_type": "code",
   "execution_count": null,
   "metadata": {},
   "outputs": [],
   "source": [
    "### Let's get the index \n"
   ]
  },
  {
   "cell_type": "markdown",
   "metadata": {},
   "source": [
    "### Remaining Lesson\n",
    "\n",
    "* get all the Auxin (IAA) upregulated genes above 5 fold up.\n",
    "* get the gene entries out of the gff file for the upregulated genes and the none-regualted genes\n",
    "* get the promoters for both sets in bedformat and in fasta format\n",
    "* look for the previously characterized elments **TGTCCCAT** or **GGTCCCAT** which have been shown previously to be involved in auxin (IAA) responsiveness"
   ]
  },
  {
   "cell_type": "code",
   "execution_count": null,
   "metadata": {},
   "outputs": [],
   "source": [
    "###Let's get the 'Col+IAA vs. Col' upregulated genes from the excel_df\n",
    "IAA_genes = excel_df[]"
   ]
  },
  {
   "cell_type": "code",
   "execution_count": null,
   "metadata": {},
   "outputs": [],
   "source": [
    "###Let's safe them sorted\n",
    "IAA_genes = IAA_genes.sort_values()"
   ]
  },
  {
   "cell_type": "code",
   "execution_count": null,
   "metadata": {},
   "outputs": [],
   "source": [
    "###Let's try to collect all the indexes (the)\n",
    "IAA_gene_index = []\n",
    "IAA_genes_annotated = []\n",
    "###Let's make the dateset smaller\n",
    "ara_gene_gff3 = ara_gff3[]\n",
    "##Let's reset the index\n",
    "ara_gene_gff3.\n"
   ]
  },
  {
   "cell_type": "code",
   "execution_count": null,
   "metadata": {},
   "outputs": [],
   "source": [
    "###Let's loop over the dataset and get all the indexes for genes we want\n",
    "for gene in IAA_genes:\n",
    "    tmp_index = \n",
    "    #if the length of an index is 0 there was no element found fitting the bill\n",
    "    if :\n",
    "        print('Gene not found in annotation file:', gene)\n",
    "    \n",
    "    elif :\n",
    "        \n",
    "    else:\n",
    "        print('Multiple annotations found for the same gene:', gene)\n",
    "        "
   ]
  },
  {
   "cell_type": "code",
   "execution_count": null,
   "metadata": {},
   "outputs": [],
   "source": [
    "###Let's use he indexes to get the gene gff3 of all the genes of interest\n",
    "ara_gene_gff3.loc[##]"
   ]
  },
  {
   "cell_type": "code",
   "execution_count": null,
   "metadata": {},
   "outputs": [],
   "source": [
    "###Let's save it out with to_csv\n",
    "ara_gene_gff3.loc[##]"
   ]
  },
  {
   "cell_type": "markdown",
   "metadata": {},
   "source": [
    "### exercise I\n",
    "\n",
    "* Find out how many upregulated IAA genes there are.\n",
    "* Find out how many upregulated IAA genes where in the annotation.\n",
    "\n"
   ]
  },
  {
   "cell_type": "code",
   "execution_count": null,
   "metadata": {},
   "outputs": [],
   "source": []
  },
  {
   "cell_type": "markdown",
   "metadata": {},
   "source": [
    "### exercise II\n",
    "\n",
    "* safe out the gff3 file in bed six format\n",
    "    * Generate the correct start side for bed format being 0 based.\n",
    "    * Generate a new gene name column\n",
    "    * Fill in the names for the IAA genes that were annotated IAA_genes_annotated\n",
    "    * Change the orientation of the columns to 'SeqID', 'Bed_start', 'end', 'name', 'score', 'strand'\n"
   ]
  },
  {
   "cell_type": "code",
   "execution_count": null,
   "metadata": {},
   "outputs": [],
   "source": [
    "ara_gene_gff3['Bed_start'] = ### - 1\n",
    "ara_gene_gff3[###] = 'NaN'\n",
    "ara_gene_gff3.loc[IAA_gene_index, 'name'] = ######"
   ]
  },
  {
   "cell_type": "code",
   "execution_count": null,
   "metadata": {},
   "outputs": [],
   "source": [
    "###save out in the right order for our select genes only\n",
    "ara_gene_gff3.loc[#####].to_csv('datasets/IAA_up.gene.bed6', ####)"
   ]
  },
  {
   "cell_type": "code",
   "execution_count": null,
   "metadata": {},
   "outputs": [],
   "source": [
    "###Let's safe out all the gene beds as well.\n",
    "ara_gene_gff3.loc[#####].to_csv('datasets/All.gene.bed6', ####)"
   ]
  },
  {
   "cell_type": "markdown",
   "metadata": {},
   "source": [
    "## A crash course introduction to [Bedtools](https://bedtools.readthedocs.io/en/latest/index.html)\n",
    "\n",
    "Collectively, the bedtools utilities are a swiss-army knife of tools for a wide-range of genomics analysis tasks. The most widely-used tools enable genome arithmetic: that is, set theory on the genome.\n",
    "\n",
    "* We want to get all genes that are not upregulated.\n",
    "\n",
    "-> Upregulated genes **(IAA_up.gene.bed6)** and not upregulated genes **(noIAA_up.gene.bed6)**"
   ]
  },
  {
   "cell_type": "markdown",
   "metadata": {},
   "source": [
    "## Inverse a bed file with bedtools [subtract](https://bedtools.readthedocs.io/en/latest/content/tools/subtract.html?highlight=subtract)"
   ]
  },
  {
   "cell_type": "code",
   "execution_count": null,
   "metadata": {},
   "outputs": [],
   "source": [
    "Image('figures/Substract.png')"
   ]
  },
  {
   "cell_type": "markdown",
   "metadata": {},
   "source": [
    "This is a quick way to inverse a gene bed file and we want to work on both.\n"
   ]
  },
  {
   "cell_type": "code",
   "execution_count": null,
   "metadata": {},
   "outputs": [],
   "source": [
    "!bedtools subtract ### > datasets/noIAA_up.gene.bed6"
   ]
  },
  {
   "cell_type": "code",
   "execution_count": null,
   "metadata": {},
   "outputs": [],
   "source": [
    "!bedtools subtract"
   ]
  },
  {
   "cell_type": "markdown",
   "metadata": {},
   "source": [
    "### Now we have two gene beds we want to work with \n",
    "\n",
    "**(IAA_up.gene.bed6)** and not upregulated genes **(noIAA_up.gene.bed6)**"
   ]
  },
  {
   "cell_type": "markdown",
   "metadata": {},
   "source": [
    "## Get the promoters with bedtools [flank](https://bedtools.readthedocs.io/en/latest/content/tools/flank.html?highlight=flank)"
   ]
  },
  {
   "cell_type": "code",
   "execution_count": null,
   "metadata": {},
   "outputs": [],
   "source": [
    "Image('figures/Flank.png')"
   ]
  },
  {
   "cell_type": "code",
   "execution_count": null,
   "metadata": {},
   "outputs": [],
   "source": [
    "!bedtools flank ##### > datasets/IAA_up.promoter.bed6 "
   ]
  },
  {
   "cell_type": "code",
   "execution_count": null,
   "metadata": {},
   "outputs": [],
   "source": [
    "!bedtools flank"
   ]
  },
  {
   "cell_type": "markdown",
   "metadata": {},
   "source": [
    "### exercise III\n",
    "Generate the promoters for the noIAA_up.gene.bed6 file"
   ]
  },
  {
   "cell_type": "code",
   "execution_count": null,
   "metadata": {},
   "outputs": [],
   "source": [
    "!bedtools flank ##### > datasets/noIAA_up.promoter.bed6 "
   ]
  },
  {
   "cell_type": "markdown",
   "metadata": {},
   "source": [
    "## Get the promoters with bedtools [getfasta](https://bedtools.readthedocs.io/en/latest/content/tools/getfasta.html?highlight=getfasta)"
   ]
  },
  {
   "cell_type": "code",
   "execution_count": null,
   "metadata": {},
   "outputs": [],
   "source": [
    "Image('figures/Getfasta.png')"
   ]
  },
  {
   "cell_type": "code",
   "execution_count": null,
   "metadata": {},
   "outputs": [],
   "source": [
    "!bedtools getfasta #### >  datasets/IAA_up.promoter.fa"
   ]
  },
  {
   "cell_type": "code",
   "execution_count": null,
   "metadata": {},
   "outputs": [],
   "source": [
    "!bedtools getfasta"
   ]
  },
  {
   "cell_type": "markdown",
   "metadata": {},
   "source": [
    "### exercise IV\n",
    "Get the fasta sequence for the noIAA_up.promotor.bed6 file"
   ]
  },
  {
   "cell_type": "code",
   "execution_count": null,
   "metadata": {},
   "outputs": [],
   "source": [
    "!bedtools getfasta #### >  datasets/noIAA_up.promoter.fa"
   ]
  },
  {
   "cell_type": "markdown",
   "metadata": {},
   "source": [
    "### Back to biopython to count the Auxin/IAA features in promoters"
   ]
  },
  {
   "cell_type": "code",
   "execution_count": null,
   "metadata": {},
   "outputs": [],
   "source": [
    "IAA_pro_motif_counter = 0\n",
    "IAA_pro_counter = 0\n",
    "for #######:\n",
    "    IAA_pro_counter += 1\n",
    "    if #######:\n",
    "        IAA_pro_motif_counter += 1"
   ]
  },
  {
   "cell_type": "code",
   "execution_count": null,
   "metadata": {},
   "outputs": [],
   "source": [
    "print('There are', IAA_pro_motif_counter, 'out of', IAA_pro_counter, \\\n",
    "      'upregulated IAA gene promoters which contain one of the two IAA sequences.')\n",
    "print('This is', IAA_pro_motif_counter/IAA_pro_counter*100, '%.')"
   ]
  },
  {
   "cell_type": "markdown",
   "metadata": {},
   "source": [
    "### exercise V\n",
    "Count the promoter sequences of genes not upregualted by IAA and how many contain the motifs"
   ]
  },
  {
   "cell_type": "code",
   "execution_count": null,
   "metadata": {},
   "outputs": [],
   "source": [
    "noIAA_pro_motif_counter = 0\n",
    "noIAA_pro_counter = 0\n",
    "for pro in #####:\n",
    "    noIAA_pro_counter += 1\n",
    "    if ####:\n",
    "        noIAA_pro_motif_counter += 1"
   ]
  },
  {
   "cell_type": "code",
   "execution_count": null,
   "metadata": {},
   "outputs": [],
   "source": [
    "print('There are', noIAA_pro_motif_counter, 'out of', noIAA_pro_counter, \\\n",
    "      'not upregulated IAA gene promoters which contain one of the two IAA sequences.')\n",
    "print('This is', noIAA_pro_motif_counter/noIAA_pro_counter*100, '%.')"
   ]
  },
  {
   "cell_type": "markdown",
   "metadata": {},
   "source": [
    "### What is your conclusion?"
   ]
  },
  {
   "cell_type": "code",
   "execution_count": null,
   "metadata": {},
   "outputs": [],
   "source": []
  }
 ],
 "metadata": {
  "kernelspec": {
   "display_name": "Python 3",
   "language": "python",
   "name": "python3"
  },
  "language_info": {
   "codemirror_mode": {
    "name": "ipython",
    "version": 3
   },
   "file_extension": ".py",
   "mimetype": "text/x-python",
   "name": "python",
   "nbconvert_exporter": "python",
   "pygments_lexer": "ipython3",
   "version": "3.7.1"
  }
 },
 "nbformat": 4,
 "nbformat_minor": 2
}
